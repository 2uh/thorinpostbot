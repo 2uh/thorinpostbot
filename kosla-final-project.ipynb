{
 "cells": [
  {
   "cell_type": "markdown",
   "metadata": {},
   "source": [
    "Alex Kosla\n",
    "Final Project - \"Tweet Generator\"\n",
    "COSC 4600"
   ]
  },
  {
   "cell_type": "code",
   "execution_count": 2,
   "metadata": {},
   "outputs": [
    {
     "name": "stderr",
     "output_type": "stream",
     "text": [
      "Using TensorFlow backend.\n"
     ]
    }
   ],
   "source": [
    "from __future__ import absolute_import, division, print_function, unicode_literals\n",
    "from keras.models import load_model\n",
    "import tensorflow as tf\n",
    "import pandas as pd\n",
    "import random\n",
    "\n",
    "import numpy as np\n",
    "import os\n",
    "#import time\n"
   ]
  },
  {
   "cell_type": "markdown",
   "metadata": {},
   "source": [
    "The datasets we will be working with I obtained and created myself using a Twitter Scraper written by Tom Dickinson[1]. I adapted it to write obtained tweets to file, discarding any metadata, which will not be of use to us in this program. I created two files, both from the same original source: the twitter of Duncan \"Thorin\" Shields, an esports journalist and analyst that I have followed for many years. I chose him because he has a very large amount of tweets available to use as data, he has a distinct style of tweeting, and no other person, so my knowledge, has attempted to imitate his tweets using Machine Learning.\n",
    "\n",
    "The 'thorin.txt' file contains pure tweets, not specially separated. Newline characters are appended to tweets for readability in .txt format. \n",
    "\n",
    "The 'thorin-firsts.txt' file is slightly different, overlapping in data with 'thorin.txt'. Each scraped tweet is split into words and then the first word (determined by splitting the tweet with \" \" characters) is written to file, along with a newline character. "
   ]
  },
  {
   "cell_type": "code",
   "execution_count": 3,
   "metadata": {},
   "outputs": [],
   "source": [
    "path_to_file = 'thorin.txt'\n",
    "path_to_firsts = 'thorin-firsts.txt'"
   ]
  },
  {
   "cell_type": "markdown",
   "metadata": {},
   "source": [
    "Here we open our primary data file, the 'thorin.txt' file. We read it all in as a single string. \n",
    "\n",
    "We print the number of characters in the whole dataset to get an idea of the size of the data we're working with.\n",
    "\n",
    "For similar purposes, we print the first 280 characters of the dataset. 280 because that is the maximum possible length of a tweet. However, it should be noted that not all tweets in the dataset are the same character length. This first piece of data we print out actually consists of two tweets. We can see the final print statement in this chunk of code shows a very different tweet, relating to a very different subject from the first tweet."
   ]
  },
  {
   "cell_type": "code",
   "execution_count": 4,
   "metadata": {},
   "outputs": [
    {
     "name": "stdout",
     "output_type": "stream",
     "text": [
      "# of characters in text :366148\n"
     ]
    }
   ],
   "source": [
    "text = open(path_to_file, 'rb').read().decode(encoding='utf-8')\n",
    "print('# of characters in text :'+str(len(text)))"
   ]
  },
  {
   "cell_type": "code",
   "execution_count": 5,
   "metadata": {},
   "outputs": [
    {
     "name": "stdout",
     "output_type": "stream",
     "text": [
      "It's obvious that NEO provided the frags in the server and the MVP performances, but TaZ was the heart of the great Polish teams\n",
      "https://dotesports.com/counter-strike/news/the-thorin-treatment-the-spirit-of-taz-19910 …pic.twitter.com/TuTH8yKH2v\n",
      "See you soon, mate.\n",
      "Narrative Wake \n"
     ]
    }
   ],
   "source": [
    "print(text[:280])"
   ]
  },
  {
   "cell_type": "code",
   "execution_count": 6,
   "metadata": {},
   "outputs": [
    {
     "name": "stdout",
     "output_type": "stream",
     "text": [
      "Narrative Wake Episode 21: S8 NA LCS Spring Mega Preview \n",
      "@karonmoser\n",
      "\n",
      "Guests\n",
      "@CG_Apo\n"
     ]
    }
   ],
   "source": [
    "print(text[265:350])"
   ]
  },
  {
   "cell_type": "markdown",
   "metadata": {},
   "source": [
    "Get the list of all words in the twitter dataset.\n",
    "\n",
    "First we split using the \" \" character our string dataset into an array of strings. We also strip the dataset of newline characters, so we don't have words like \"\\nHello\" in our corpus. \n",
    "\n",
    "We use the set function which strips down extraneous instances of words, so we only have unique words.\n",
    "[2]"
   ]
  },
  {
   "cell_type": "code",
   "execution_count": 7,
   "metadata": {},
   "outputs": [
    {
     "name": "stdout",
     "output_type": "stream",
     "text": [
      "Total unique words in the corpus: 8518\n"
     ]
    }
   ],
   "source": [
    "text_in_words = [w for w in text.split(' ') if w.strip() != '' or w == '\\n']\n",
    "corpus = set(text_in_words) \n",
    "print(\"Total unique words in the corpus: \" + str(len(corpus)))"
   ]
  },
  {
   "cell_type": "markdown",
   "metadata": {},
   "source": [
    "Now we do something very similar to what was done above, except with our first words dataset. We also take a peek at what kinds of things are first words."
   ]
  },
  {
   "cell_type": "code",
   "execution_count": 8,
   "metadata": {},
   "outputs": [
    {
     "name": "stdout",
     "output_type": "stream",
     "text": [
      "Length of first words in characters: 366148\n",
      "Corpus of first words, length in words: 5536\n"
     ]
    }
   ],
   "source": [
    "# read in all the first words\n",
    "with open(path_to_firsts, encoding='utf-8') as f:\n",
    "    firsts = f.read().lower().replace('\\n', ' \\n ')\n",
    "print('Length of first words in characters: ' + str(len(text)))\n",
    "\n",
    "# make a list of all first words in the tweets\n",
    "firsts_in_words = [w for w in firsts.split(' ') if w.strip() != '' or w == '\\n']\n",
    "print('Corpus of first words, length in words: ' + str(len(firsts_in_words)))"
   ]
  },
  {
   "cell_type": "code",
   "execution_count": 9,
   "metadata": {},
   "outputs": [
    {
     "name": "stdout",
     "output_type": "stream",
     "text": [
      "[\"it's\", '\\n', 'see', '\\n', 'narrative', '\\n', 'nip', '\\n', 'congrat', '\\n']\n"
     ]
    }
   ],
   "source": [
    "print(firsts_in_words[:10])"
   ]
  },
  {
   "cell_type": "code",
   "execution_count": 10,
   "metadata": {},
   "outputs": [
    {
     "name": "stdout",
     "output_type": "stream",
     "text": [
      "Size of Corpus of unique first words: 745\n"
     ]
    }
   ],
   "source": [
    "# get unique first words\n",
    "first_vocab = set(firsts_in_words)\n",
    "print('Size of Corpus of unique first words: ' + str(len(first_vocab)))"
   ]
  },
  {
   "cell_type": "markdown",
   "metadata": {},
   "source": [
    "Now it'd be nice to know more about our data before we feed it into our Neural Network. A good way to do that is to get the frequency of words in the data. \n",
    "\n",
    "We make a list of nothing but occurences of words in our data. Because we do this by iterating through our list of all unique words in our dataset, the indices of each word in the unique word list will be the same as the indices of the same words in our frequency list. Thus, we can use the zip function to join the two lists together into one single list of tuples. \n",
    "\n",
    "We then convert this list of tuples into a pandas dataframe, which we can more easily graph with. We then make a bar chart of some of the most popular words to see which words we're most likely to see.\n",
    "\n",
    "We do this in both our first words and words datasets."
   ]
  },
  {
   "cell_type": "code",
   "execution_count": 11,
   "metadata": {},
   "outputs": [],
   "source": [
    "# get counts of the frequency of each unique word in the list of first words\n",
    "list_of_frequencies = []\n",
    "for word in first_vocab:\n",
    "    list_of_frequencies.append(firsts_in_words.count(word))\n",
    "\n",
    "firsts_and_freq = list(zip(first_vocab, list_of_frequencies))\n",
    "firsts_and_freq = sorted(firsts_and_freq, key = lambda x: x[1], reverse=True)"
   ]
  },
  {
   "cell_type": "code",
   "execution_count": 12,
   "metadata": {},
   "outputs": [
    {
     "name": "stdout",
     "output_type": "stream",
     "text": [
      "   First word  Frequency\n",
      "0          \\n       2771\n",
      "1           i        131\n",
      "2         the        103\n",
      "3        it's         86\n",
      "4         you         71\n",
      "5          if         63\n",
      "6        this         63\n",
      "7    thorin's         47\n",
      "8        when         34\n",
      "9          my         23\n",
      "10       faze         22\n",
      "11       they         21\n",
      "12       just         20\n",
      "13         he         20\n",
      "14       what         20\n",
      "15        lol         19\n",
      "16         so         19\n",
      "17      great         18\n",
      "18         c9         17\n",
      "19     that's         17\n"
     ]
    }
   ],
   "source": [
    "df_firsts = pd.DataFrame(firsts_and_freq, columns =['First word', 'Frequency'])\n",
    "print(df_firsts[:20])"
   ]
  },
  {
   "cell_type": "code",
   "execution_count": 13,
   "metadata": {},
   "outputs": [
    {
     "data": {
      "image/png": "[encoded data removed]",
      "text/plain": [
       "<Figure size 432x288 with 1 Axes>"
      ]
     },
     "metadata": {
      "needs_background": "light"
     },
     "output_type": "display_data"
    }
   ],
   "source": [
    "df_to_graph = df_firsts[:10]\n",
    "\n",
    "%matplotlib inline\n",
    "import matplotlib.pyplot as plt\n",
    "plt.bar(df_to_graph['First word'], df_to_graph['Frequency'], align='center')\n",
    "plt.xlabel('First word in Tweet')\n",
    "plt.ylabel('Frequency')\n",
    "plt.title('First Word Frequencies')\n",
    "\n",
    "plt.show()"
   ]
  },
  {
   "cell_type": "code",
   "execution_count": 14,
   "metadata": {},
   "outputs": [],
   "source": [
    "# get counts of the frequency of each unique word in the list of first words\n",
    "list_of_all_frequencies = []\n",
    "for word in corpus:\n",
    "    list_of_all_frequencies.append(text_in_words.count(word))\n",
    "\n",
    "corpus_freq = list(zip(corpus, list_of_all_frequencies))\n",
    "corpus_freq = sorted(corpus_freq, key = lambda x: x[1], reverse=True)"
   ]
  },
  {
   "cell_type": "code",
   "execution_count": 15,
   "metadata": {},
   "outputs": [
    {
     "name": "stdout",
     "output_type": "stream",
     "text": [
      "    Word  Frequency\n",
      "0    the       2191\n",
      "1     to       1526\n",
      "2      a       1326\n",
      "3    and       1214\n",
      "4     of       1162\n",
      "5     in        905\n",
      "6     is        796\n",
      "7    you        569\n",
      "8   that        568\n",
      "9    for        534\n",
      "10     I        452\n",
      "11  they        436\n",
      "12   are        433\n",
      "13    be        392\n",
      "14  have        371\n",
      "15    on        364\n",
      "16    it        338\n",
      "17   but        325\n",
      "18  with        307\n",
      "19    as        298\n"
     ]
    }
   ],
   "source": [
    "df_corpus_freq = pd.DataFrame(corpus_freq, columns =['Word', 'Frequency'])\n",
    "print(df_corpus_freq[:20])"
   ]
  },
  {
   "cell_type": "code",
   "execution_count": 16,
   "metadata": {},
   "outputs": [
    {
     "data": {
      "image/png": "[encoded data removed]",
      "text/plain": [
       "<Figure size 432x288 with 1 Axes>"
      ]
     },
     "metadata": {
      "needs_background": "light"
     },
     "output_type": "display_data"
    }
   ],
   "source": [
    "df_corpus_short = df_corpus_freq[:10]\n",
    "plt.bar(df_corpus_short['Word'], df_corpus_short['Frequency'], align='center')\n",
    "plt.xlabel('Word')\n",
    "plt.ylabel('Frequency')\n",
    "plt.title('Word Frequencies')\n",
    "\n",
    "plt.show()"
   ]
  },
  {
   "cell_type": "markdown",
   "metadata": {},
   "source": [
    "It's come time to start more directly preparing our data for use in a Neural Network. We use the set function again to get all unique characters in the text dataset, and then use numpy to pass it to an array, which will make it easier to work with. [3]"
   ]
  },
  {
   "cell_type": "code",
   "execution_count": 17,
   "metadata": {},
   "outputs": [
    {
     "name": "stdout",
     "output_type": "stream",
     "text": [
      "# of unique characters = 118\n"
     ]
    }
   ],
   "source": [
    "vocab = sorted(set(text))\n",
    "print('# of unique characters = '+str(len(vocab)))"
   ]
  },
  {
   "cell_type": "code",
   "execution_count": 18,
   "metadata": {},
   "outputs": [
    {
     "name": "stdout",
     "output_type": "stream",
     "text": [
      "['\\n' ' ' '!' '\"' '#' '$' '%' '&' \"'\" '(' ')' '*' '+' ',' '-' '.' '/' '0'\n",
      " '1' '2' '3' '4' '5' '6' '7' '8' '9' ':' ';' '<' '=' '>' '?' '@' 'A' 'B'\n",
      " 'C' 'D' 'E' 'F' 'G' 'H' 'I' 'J' 'K' 'L' 'M' 'N' 'O' 'P' 'Q' 'R' 'S' 'T'\n",
      " 'U' 'V' 'W' 'X' 'Y' 'Z' '[' ']' '_' '`' 'a' 'b' 'c' 'd' 'e' 'f' 'g' 'h'\n",
      " 'i' 'j' 'k' 'l' 'm' 'n' 'o' 'p' 'q' 'r' 's' 't' 'u' 'v' 'w' 'x' 'y' 'z'\n",
      " '\\xa0' 'À' 'è' 'é' 'ú' 'ă' 'ć' 'Č' 'š' 'М' 'Т' 'а' 'д' 'е' 'ж' 'к' 'л'\n",
      " 'о' 'р' 'т' 'ц' 'ы' 'ь' '’' '…' '이' '팅' '화']\n"
     ]
    }
   ],
   "source": [
    "print(np.array(vocab))"
   ]
  },
  {
   "cell_type": "markdown",
   "metadata": {},
   "source": [
    "Here we go for a pseudo one-hot encoding setup for our data, assigning each specific character a value. One-hot encoding requires an entire vector for each character, but this approach requires only a single integer, but the thought process is similar. That means that we can use char2idx to translate any character into a specific index in our encoding and use idx2char to decode it. We then translate our entire dataset into an array of ints.\n",
    "\n",
    "We do this because Neural Networks are designed around manipulating numbers, so we have to give ours numbers, rather than to process. \n",
    "\n",
    "You can see in our print statement below what a one-hot encoded string looks like."
   ]
  },
  {
   "cell_type": "code",
   "execution_count": 19,
   "metadata": {},
   "outputs": [],
   "source": [
    "char2idx = {u:i for i, u in enumerate(vocab)}\n",
    "idx2char = np.array(vocab)\n",
    "\n",
    "text_as_int = np.array([char2idx[c] for c in text])\n"
   ]
  },
  {
   "cell_type": "code",
   "execution_count": 20,
   "metadata": {},
   "outputs": [
    {
     "name": "stdout",
     "output_type": "stream",
     "text": [
      "[42 83  8 82  1 78 65 85 72 78 84 82  1 83 71 64 83  1 47 38 48  1 79 81\n",
      " 78 85 72 67 68 67  1 83 71 68  1 69 81 64 70 82  1 72 77  1 83 71 68  1\n",
      " 82 68 81 85 68 81  1 64 77 67  1 83 71 68  1 46 55 49  1 79 68 81]\n",
      "is equivalent to:\n",
      "It's obvious that NEO provided the frags in the server and the MVP per\n"
     ]
    }
   ],
   "source": [
    "print(text_as_int[:70])\n",
    "print(\"is equivalent to:\")\n",
    "print(text[:70])"
   ]
  },
  {
   "cell_type": "markdown",
   "metadata": {},
   "source": [
    "We can't feed in all of our data at once to the Neural Network, so we split it up into sequences of characters. We specify a length for our sequences we'll feed into the neural network, and alter our input data so it's in a format the Neural Network will take, before splitting it into sequences."
   ]
  },
  {
   "cell_type": "code",
   "execution_count": 21,
   "metadata": {},
   "outputs": [
    {
     "name": "stdout",
     "output_type": "stream",
     "text": [
      "<TensorSliceDataset shapes: (), types: tf.int64>\n",
      "I\n",
      "t\n",
      "'\n",
      "s\n",
      " \n",
      "o\n",
      "b\n"
     ]
    }
   ],
   "source": [
    "# The maximum length sentence we want for a single input in characters\n",
    "seq_length = 70\n",
    "examples_per_epoch = len(text)//(seq_length+1)\n",
    "\n",
    "# Create training examples / targets\n",
    "char_dataset = tf.data.Dataset.from_tensor_slices(text_as_int)\n",
    "print(char_dataset)\n",
    "for i in char_dataset.take(7):\n",
    "  print(idx2char[i])\n"
   ]
  },
  {
   "cell_type": "code",
   "execution_count": 22,
   "metadata": {},
   "outputs": [
    {
     "name": "stdout",
     "output_type": "stream",
     "text": [
      "\"It's obvious that NEO provided the frags in the server and the MVP perf\"\n",
      "'ormances, but TaZ was the heart of the great Polish teams\\nhttps://dotes'\n",
      "'ports.com/counter-strike/news/the-thorin-treatment-the-spirit-of-taz-19'\n"
     ]
    }
   ],
   "source": [
    "sequences = char_dataset.batch(seq_length+1, drop_remainder=True)\n",
    "\n",
    "for item in sequences.take(3):\n",
    "  print(repr(''.join(idx2char[item]))) #repr(item) is similar to str(item), but more precise"
   ]
  },
  {
   "cell_type": "markdown",
   "metadata": {},
   "source": [
    "Keeping with our theme of getting our data to be in a workable format for a Neural Network, we create a MapDataset object that will allow us to take a sequence and split it into input and target text. We are using an RNN, so it's very important we can separate inputs and targets. RNNs take an input and try to guess the next, so we need a way to help ours achieve that. You can see that this formats things so that our target text is always shifted to the right 1 full character of whatever our input text is. \n",
    "What that means is that given 70 characters worth of data in our sequence, we try to guess the next character after that, and then use whatever we guessed with as another input, recursively completing the task."
   ]
  },
  {
   "cell_type": "code",
   "execution_count": 23,
   "metadata": {},
   "outputs": [
    {
     "name": "stdout",
     "output_type": "stream",
     "text": [
      "<MapDataset shapes: ((70,), (70,)), types: (tf.int64, tf.int64)>\n"
     ]
    }
   ],
   "source": [
    "# set up the datasets to automatically use their first character \n",
    "# to attempt to predict the remaining characters in the chunk\n",
    "def split_input_target(chunk):\n",
    "    input_text = chunk[:-1]\n",
    "    target_text = chunk[1:]\n",
    "    return input_text, target_text\n",
    "\n",
    "dataset = sequences.map(split_input_target)\n",
    "\n",
    "print(dataset)"
   ]
  },
  {
   "cell_type": "code",
   "execution_count": 24,
   "metadata": {},
   "outputs": [
    {
     "name": "stdout",
     "output_type": "stream",
     "text": [
      "Input data:  \"It's obvious that NEO provided the frags in the server and the MVP per\"\n",
      "Target data: \"t's obvious that NEO provided the frags in the server and the MVP perf\"\n"
     ]
    }
   ],
   "source": [
    "for input_example, target_example in  dataset.take(1):\n",
    "  print ('Input data: ', repr(''.join(idx2char[input_example.numpy()])))\n",
    "  print ('Target data:', repr(''.join(idx2char[target_example.numpy()])))\n"
   ]
  },
  {
   "cell_type": "markdown",
   "metadata": {},
   "source": [
    "Now we're gonna define some arguments we'll use in our model. We'll cut our data into chunks again to feed into the model, and shuffle them up to prevent overfitting. The buffer is there to shuffle elements in, otherwise tensorflow could use up too much memory.\n",
    "\n",
    "We will feed in our chars, so we have vocab_size to handle the shape of that.\n",
    "\n",
    "Our embedding dimension and number of rnn units determine the size of our layers. If they are too big, they could overfit. If they are too small, they could underfit. I found these values to be nice compromises that yielded good results, though they do take a fair bit to train."
   ]
  },
  {
   "cell_type": "code",
   "execution_count": 25,
   "metadata": {},
   "outputs": [
    {
     "name": "stdout",
     "output_type": "stream",
     "text": [
      "<BatchDataset shapes: ((64, 70), (64, 70)), types: (tf.int64, tf.int64)>\n"
     ]
    }
   ],
   "source": [
    "BATCH_SIZE = 64\n",
    "BUFFER_SIZE = 10000\n",
    "\n",
    "dataset = dataset.shuffle(BUFFER_SIZE).batch(BATCH_SIZE, drop_remainder=True)\n",
    "\n",
    "print(dataset)"
   ]
  },
  {
   "cell_type": "code",
   "execution_count": 26,
   "metadata": {},
   "outputs": [],
   "source": [
    "# Length of the vocabulary in chars\n",
    "vocab_size = len(vocab)\n",
    "\n",
    "# The embedding dimension\n",
    "embedding_dim = 256\n",
    "\n",
    "# Number of RNN units\n",
    "rnn_units = 1024\n"
   ]
  },
  {
   "cell_type": "markdown",
   "metadata": {},
   "source": [
    "We now can actually build our model. We will be using 5 sequential layers, a modified version of the TensorFlow guide [3]. \n",
    "    1. The Embedding layer. Our input layer that takes in our data.\n",
    "    2. A Gated Recurrent Unit. This is a form of an RNN that produces slightly better results compared to an LSTM, but in shorter amounts of time. [4] \n",
    "    3. A dropout layer of 15%. This is to avoid overfitting and to make fitting a bit faster. \n",
    "    4. Another GRU of similar size.\n",
    "    5. A Dense output layer with vocab_size outputs. \n",
    "    \n",
    "We then build our model and compile it using the adam optimizer (an all-around great optimzer) and a sparse-categorical-crossentropy loss function, which is good for integer-encoded data representations."
   ]
  },
  {
   "cell_type": "code",
   "execution_count": 27,
   "metadata": {},
   "outputs": [],
   "source": [
    "def build_model(vocab_size, embedding_dim, rnn_units, batch_size):\n",
    "  model = tf.keras.Sequential([\n",
    "    tf.keras.layers.Embedding(vocab_size, embedding_dim,\n",
    "                              batch_input_shape=[batch_size, None]),\n",
    "    tf.keras.layers.GRU(512,\n",
    "                        return_sequences=True,\n",
    "                        stateful=True,\n",
    "                        recurrent_initializer='glorot_uniform'),\n",
    "    tf.keras.layers.Dropout(.3),\n",
    "    tf.keras.layers.GRU(rnn_units,\n",
    "                        return_sequences=True,\n",
    "                        stateful=True,\n",
    "                        recurrent_initializer='glorot_uniform'),      \n",
    "    tf.keras.layers.Dense(vocab_size)\n",
    "  ])\n",
    "  return model\n"
   ]
  },
  {
   "cell_type": "code",
   "execution_count": 28,
   "metadata": {},
   "outputs": [],
   "source": [
    "model = build_model(\n",
    "  vocab_size = len(vocab),\n",
    "  embedding_dim=embedding_dim,\n",
    "  rnn_units=rnn_units,\n",
    "  batch_size=BATCH_SIZE)"
   ]
  },
  {
   "cell_type": "code",
   "execution_count": null,
   "metadata": {},
   "outputs": [],
   "source": [
    "model.summary()"
   ]
  },
  {
   "cell_type": "code",
   "execution_count": 29,
   "metadata": {},
   "outputs": [],
   "source": [
    "def loss(labels, logits):\n",
    "  return tf.keras.losses.sparse_categorical_crossentropy(labels, logits, from_logits=True)\n"
   ]
  },
  {
   "cell_type": "code",
   "execution_count": 30,
   "metadata": {},
   "outputs": [],
   "source": [
    "model.compile(optimizer='adam', loss=loss)"
   ]
  },
  {
   "cell_type": "markdown",
   "metadata": {},
   "source": [
    "In order to test our RNN, we will need to alter it a little bit to handle only a single string of input rather than a full batch. Thus, we'll need to save our weights after each fit if we want to get an idea of accuracy for each epoch. [3]\n",
    "\n",
    "I've opted to train the RNN for only 5 Epochs for time's sake, though more epochs will surely yield better results."
   ]
  },
  {
   "cell_type": "code",
   "execution_count": 31,
   "metadata": {},
   "outputs": [],
   "source": [
    "# Directory where the checkpoints will be saved\n",
    "checkpoint_dir = './training_checkpoints-new'\n",
    "# Name of the checkpoint files\n",
    "checkpoint_prefix = os.path.join(checkpoint_dir, \"ckpt_{epoch}\")\n",
    "\n",
    "checkpoint_callback=tf.keras.callbacks.ModelCheckpoint(\n",
    "    filepath=checkpoint_prefix,\n",
    "    save_weights_only=True)\n"
   ]
  },
  {
   "cell_type": "code",
   "execution_count": 32,
   "metadata": {},
   "outputs": [],
   "source": [
    "# I'll probably do like EPOCHS=20 for the writeup, \n",
    "# but I know you have to be able to run this on your computer\n",
    "EPOCHS=5"
   ]
  },
  {
   "cell_type": "markdown",
   "metadata": {},
   "source": [
    "We need to define a way to actually use our model once we have trained it. The vast majority of RNNs, from what I've seen, require the user to input a string and only produce text, with no attempt at an accuracy metric.\n",
    "\n",
    "My generate_text function (adapted from tensorflow's guide) [3] takes in a corpus in addition to a model and a starting string. We generate 10 tweets' worth of characters, make words out of them, and then compare the created words to the ones in our corpus. We then make a hit ratio of what percentage of generated words were words actually in our corpus (words tweeted by Thorin). \n",
    "\n",
    "This is by no means a perfect accuracy metric, but I thought it would be nice to have something to tell us we're going in the right direction. Reducing the temperature variable below increases the accuracy, but it becomes less and less like a Thorin tweet. In my experiments, values around 0.5 or below would only produce some of the most popular words in the corpus. For example, a sentence consisting of \"a the a the the a the the the.\" All words in the corpus, but nothing like something an actual human would say.\n",
    "\n",
    "We return a single tweet's worth snippet of text and the accuracy. The first is printed for transparency of how the RNN is doing and the accuracy is saved for later.\n"
   ]
  },
  {
   "cell_type": "code",
   "execution_count": 33,
   "metadata": {},
   "outputs": [],
   "source": [
    "def generate_text(model, start_string, corpus):\n",
    "    # Evaluation step (generating text using the learned model)\n",
    "\n",
    "    # Number of characters to generate\n",
    "    num_generate = 2800\n",
    "\n",
    "    # one-hot encoding our start string\n",
    "    input_eval = [char2idx[s] for s in start_string]\n",
    "    input_eval = tf.expand_dims(input_eval, 0)\n",
    "\n",
    "    # Empty string to store our results\n",
    "    text_generated = []\n",
    "\n",
    "    # Low temperatures results in more predictable text.\n",
    "    # Higher temperatures results in more surprising text.\n",
    "    temperature = 0.75\n",
    "\n",
    "    # Here batch size == 1\n",
    "    model.reset_states()\n",
    "    for i in range(num_generate):\n",
    "      predictions = model(input_eval)\n",
    "      # remove the batch dimension\n",
    "      predictions = tf.squeeze(predictions, 0)\n",
    "\n",
    "      # using a categorical distribution to predict the word returned by the model\n",
    "      predictions = predictions / temperature\n",
    "      predicted_id = tf.random.categorical(predictions, num_samples=1)[-1,0].numpy()\n",
    "\n",
    "      # We pass the predicted word as the next input to the model\n",
    "      # along with the previous hidden state\n",
    "      input_eval = tf.expand_dims([predicted_id], 0)\n",
    "\n",
    "      text_generated.append(idx2char[predicted_id])\n",
    "\n",
    "    text_generated = ''.join(text_generated)\n",
    "    arr_generated_text = text_generated.split(' ')\n",
    "    corpus_hits = 0\n",
    "    for word in arr_generated_text:\n",
    "        if(word in corpus):\n",
    "            corpus_hits += 1\n",
    "\n",
    "    corpus_accuracy = corpus_hits / len(arr_generated_text)\n",
    "            \n",
    "    return (text_generated[:280], corpus_accuracy)\n"
   ]
  },
  {
   "cell_type": "markdown",
   "metadata": {},
   "source": [
    "The fit loop runs one epoch at a time until it reaches amount of epochs requested. It begins with a fresh model, and later loads saved weights to avoid redundancy. Each time it:\n",
    "    1. compiles the model\n",
    "    2. performs one epoch of fitting\n",
    "    3. saves its loss value for the current epoch\n",
    "    4. saves its weights\n",
    "    5. makes an altered model for testing purposes\n",
    "    6. picks a random first word from the list of first words for use as an input string\n",
    "    7. uses the altered model, corpus, and input string with generate_text\n",
    "    8. prints a snippet of generated text and the accuracy for the current epoch\n",
    "    9. saves the accuracy for the current epoch"
   ]
  },
  {
   "cell_type": "code",
   "execution_count": 34,
   "metadata": {},
   "outputs": [],
   "source": [
    "def fit_loop(dataset, checkpoint_callback, vocab_size,\n",
    "             embedding_dim, rnn_units, BATCH_SIZE, EPOCHS):\n",
    "    accuracies = []\n",
    "    losses = []\n",
    "    for i in range(EPOCHS):\n",
    "        if(i == 0):\n",
    "            model = build_model(vocab_size, embedding_dim, rnn_units, BATCH_SIZE)\n",
    "            model.compile('adam', loss)\n",
    "        else:\n",
    "            print(\"\\n\\n\")\n",
    "            model = build_model(vocab_size, embedding_dim, rnn_units, BATCH_SIZE)\n",
    "            model.load_weights(tf.train.latest_checkpoint(checkpoint_dir))\n",
    "            model.compile('adam', loss)\n",
    "\n",
    "        history = model.fit(dataset, epochs=1, callbacks=[checkpoint_callback])\n",
    "        losses.append(history.history['loss'][0])\n",
    "\n",
    "        model = build_model(vocab_size, embedding_dim, rnn_units, batch_size=1)\n",
    "        model.load_weights(tf.train.latest_checkpoint(checkpoint_dir))\n",
    "        model.build(tf.TensorShape([1, None]))\n",
    "\n",
    "        start_string = random.choice(firsts_in_words)\n",
    "        results = generate_text(model, start_string, corpus)\n",
    "\n",
    "        #avoid printing \"\\n\", which will just print as a newline\n",
    "        if(start_string == \"\\n\"):\n",
    "            start_string = \"\\\\n\"\n",
    "\n",
    "        print(\"\\nGenerated text after \"+ str(i+1) +\" epoch(s) with start_string \\\"\"+start_string+\"\\\"\\n\" + \n",
    "              start_string + results[0])\n",
    "        print(\"\\n\\nAccuracy of: \" + str(results[1]))\n",
    "        accuracies.append(results[1])\n",
    "        \n",
    "    return losses, accuracies\n"
   ]
  },
  {
   "cell_type": "code",
   "execution_count": 35,
   "metadata": {},
   "outputs": [
    {
     "name": "stdout",
     "output_type": "stream",
     "text": [
      "80/80 [==============================] - 307s 4s/step - loss: 3.3879\n",
      "\n",
      "Generated text after 1 epoch(s) with start_string \"xyp9x\"\n",
      "xyp9x2.0;Xдug ……ominl inet on the be and ance so al facilte he har ik sols the as an cotus to is satsind hats thaulpe the fok tor they penon ad to gatt the the ge foulin sol tal ad chin pan imeon is an ouf ouce wo the son an th e rine so thin the the the int ther cint juren the the ro\n",
      "\n",
      "\n",
      "Accuracy of: 0.3547351524879615\n",
      "\n",
      "\n",
      "\n",
      "WARNING:tensorflow:Unresolved object in checkpoint: (root).optimizer\n",
      "WARNING:tensorflow:Unresolved object in checkpoint: (root).optimizer.iter\n",
      "WARNING:tensorflow:Unresolved object in checkpoint: (root).optimizer.beta_1\n",
      "WARNING:tensorflow:Unresolved object in checkpoint: (root).optimizer.beta_2\n",
      "WARNING:tensorflow:Unresolved object in checkpoint: (root).optimizer.decay\n",
      "WARNING:tensorflow:Unresolved object in checkpoint: (root).optimizer.learning_rate\n",
      "WARNING:tensorflow:Unresolved object in checkpoint: (root).optimizer's state 'm' for (root).layer_with_weights-0.embeddings\n",
      "WARNING:tensorflow:Unresolved object in checkpoint: (root).optimizer's state 'm' for (root).layer_with_weights-3.kernel\n",
      "WARNING:tensorflow:Unresolved object in checkpoint: (root).optimizer's state 'm' for (root).layer_with_weights-3.bias\n",
      "WARNING:tensorflow:Unresolved object in checkpoint: (root).optimizer's state 'm' for (root).layer_with_weights-1.cell.kernel\n",
      "WARNING:tensorflow:Unresolved object in checkpoint: (root).optimizer's state 'm' for (root).layer_with_weights-1.cell.recurrent_kernel\n",
      "WARNING:tensorflow:Unresolved object in checkpoint: (root).optimizer's state 'm' for (root).layer_with_weights-1.cell.bias\n",
      "WARNING:tensorflow:Unresolved object in checkpoint: (root).optimizer's state 'm' for (root).layer_with_weights-2.cell.kernel\n",
      "WARNING:tensorflow:Unresolved object in checkpoint: (root).optimizer's state 'm' for (root).layer_with_weights-2.cell.recurrent_kernel\n",
      "WARNING:tensorflow:Unresolved object in checkpoint: (root).optimizer's state 'm' for (root).layer_with_weights-2.cell.bias\n",
      "WARNING:tensorflow:Unresolved object in checkpoint: (root).optimizer's state 'v' for (root).layer_with_weights-0.embeddings\n",
      "WARNING:tensorflow:Unresolved object in checkpoint: (root).optimizer's state 'v' for (root).layer_with_weights-3.kernel\n",
      "WARNING:tensorflow:Unresolved object in checkpoint: (root).optimizer's state 'v' for (root).layer_with_weights-3.bias\n",
      "WARNING:tensorflow:Unresolved object in checkpoint: (root).optimizer's state 'v' for (root).layer_with_weights-1.cell.kernel\n",
      "WARNING:tensorflow:Unresolved object in checkpoint: (root).optimizer's state 'v' for (root).layer_with_weights-1.cell.recurrent_kernel\n",
      "WARNING:tensorflow:Unresolved object in checkpoint: (root).optimizer's state 'v' for (root).layer_with_weights-1.cell.bias\n",
      "WARNING:tensorflow:Unresolved object in checkpoint: (root).optimizer's state 'v' for (root).layer_with_weights-2.cell.kernel\n",
      "WARNING:tensorflow:Unresolved object in checkpoint: (root).optimizer's state 'v' for (root).layer_with_weights-2.cell.recurrent_kernel\n",
      "WARNING:tensorflow:Unresolved object in checkpoint: (root).optimizer's state 'v' for (root).layer_with_weights-2.cell.bias\n",
      "WARNING:tensorflow:A checkpoint was restored (e.g. tf.train.Checkpoint.restore or tf.keras.Model.load_weights) but not all checkpointed values were used. See above for specific issues. Use expect_partial() on the load status object, e.g. tf.train.Checkpoint.restore(...).expect_partial(), to silence these warnings, or use assert_consumed() to make the check explicit. See https://www.tensorflow.org/alpha/guide/checkpoints#loading_mechanics for details.\n",
      "80/80 [==============================] - 310s 4s/step - loss: 2.4284\n",
      "\n",
      "Generated text after 2 epoch(s) with start_string \"c9\"\n",
      "c9$0t8/I //www.cotus/9ttwitcerexportess/wittes.com/4013013803386\n",
      "Wot's tasen the they roping ine.\n",
      "Wenicacchly andout and aves the tyere it wouts nowine ave onenting anderts in endore woont deonso and is are of hourd whel and to pealid somesust to who end ofching to kane and a offr-\n",
      "\n",
      "\n",
      "Accuracy of: 0.5028571428571429\n"
     ]
    }
   ],
   "source": [
    "result_data = fit_loop(dataset, checkpoint_callback, vocab_size,\n",
    "               embedding_dim, rnn_units, BATCH_SIZE, EPOCHS)"
   ]
  },
  {
   "cell_type": "markdown",
   "metadata": {},
   "source": [
    "Using our saved losses and accuracies, we can see how our model improves over time. I included graphs to visualize how this."
   ]
  },
  {
   "cell_type": "code",
   "execution_count": 36,
   "metadata": {},
   "outputs": [],
   "source": [
    "result_data = np.array(result_data)\n",
    "x = np.arange(1, len(result_data[0])+1)"
   ]
  },
  {
   "cell_type": "code",
   "execution_count": 37,
   "metadata": {},
   "outputs": [
    {
     "data": {
      "image/png": "[encoded data removed]",
      "text/plain": [
       "<Figure size 432x288 with 1 Axes>"
      ]
     },
     "metadata": {
      "needs_background": "light"
     },
     "output_type": "display_data"
    }
   ],
   "source": [
    "plt.plot(x, result_data[0])\n",
    "plt.title('Model Loss')\n",
    "plt.ylabel('Loss')\n",
    "plt.xlabel('Epoch')\n",
    "plt.xticks(x)\n",
    "plt.show()"
   ]
  },
  {
   "cell_type": "code",
   "execution_count": 38,
   "metadata": {},
   "outputs": [
    {
     "data": {
      "image/png": "[encoded data removed]",
      "text/plain": [
       "<Figure size 432x288 with 1 Axes>"
      ]
     },
     "metadata": {
      "needs_background": "light"
     },
     "output_type": "display_data"
    }
   ],
   "source": [
    "plt.plot(x, result_data[1])\n",
    "plt.title('Model Accuracy')\n",
    "plt.ylabel('Accuracy')\n",
    "plt.xlabel('Epoch')\n",
    "plt.xticks(x)\n",
    "plt.show()"
   ]
  },
  {
   "cell_type": "markdown",
   "metadata": {},
   "source": [
    "Bibliography"
   ]
  },
  {
   "cell_type": "markdown",
   "metadata": {},
   "source": [
    "[1] https://github.com/tomkdickinson/Twitter-Search-API-Python"
   ]
  },
  {
   "cell_type": "markdown",
   "metadata": {},
   "source": [
    "[2] E. A., \"Word-level LSTM text generator. Creating automatic song lyrics with Neural Networks.\", Medium, 2019. [Online]. Available: https://medium.com/coinmonks/word-level-lstm-text-generator-creating-automatic-song-lyrics-with-neural-networks-b8a1617104fb. [Accessed: 22- Nov- 2019]"
   ]
  },
  {
   "cell_type": "markdown",
   "metadata": {},
   "source": [
    "[3] \"Text generation with an RNN\", TensorFlow, 2019. [Online]. Available: https://www.tensorflow.org/tutorials/text/text_generation. [Accessed: 22- Nov- 2019]"
   ]
  },
  {
   "cell_type": "markdown",
   "metadata": {},
   "source": [
    "[4] https://arxiv.org/pdf/1412.3555v1.pdf"
   ]
  }
 ],
 "metadata": {
  "kernelspec": {
   "display_name": "Python 3",
   "language": "python",
   "name": "python3"
  },
  "language_info": {
   "codemirror_mode": {
    "name": "ipython",
    "version": 3
   },
   "file_extension": ".py",
   "mimetype": "text/x-python",
   "name": "python",
   "nbconvert_exporter": "python",
   "pygments_lexer": "ipython3",
   "version": "3.7.3"
  }
 },
 "nbformat": 4,
 "nbformat_minor": 2
}
